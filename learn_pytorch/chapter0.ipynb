{
 "cells": [
  {
   "cell_type": "code",
   "execution_count": 2,
   "metadata": {},
   "outputs": [],
   "source": [
    "#type: ignore\n",
    "import torch \n",
    "from torch import nn\n",
    "import numpy as np\n",
    "import matplotlib.pyplot as plt"
   ]
  },
  {
   "cell_type": "code",
   "execution_count": 3,
   "metadata": {},
   "outputs": [
    {
     "data": {
      "text/plain": [
       "tensor(1)"
      ]
     },
     "execution_count": 3,
     "metadata": {},
     "output_type": "execute_result"
    }
   ],
   "source": [
    "# Pytorch tensors are created using torch.tensor\n",
    "scalar = torch.tensor(1)\n",
    "scalar"
   ]
  },
  {
   "cell_type": "code",
   "execution_count": 4,
   "metadata": {},
   "outputs": [
    {
     "data": {
      "text/plain": [
       "0"
      ]
     },
     "execution_count": 4,
     "metadata": {},
     "output_type": "execute_result"
    }
   ],
   "source": [
    "scalar.ndim"
   ]
  },
  {
   "cell_type": "code",
   "execution_count": 5,
   "metadata": {},
   "outputs": [
    {
     "data": {
      "text/plain": [
       "1"
      ]
     },
     "execution_count": 5,
     "metadata": {},
     "output_type": "execute_result"
    }
   ],
   "source": [
    "scalar.item()"
   ]
  },
  {
   "cell_type": "code",
   "execution_count": 6,
   "metadata": {},
   "outputs": [
    {
     "data": {
      "text/plain": [
       "tensor([1, 2, 3])"
      ]
     },
     "execution_count": 6,
     "metadata": {},
     "output_type": "execute_result"
    }
   ],
   "source": [
    "vector = torch.tensor([1, 2, 3])\n",
    "vector"
   ]
  },
  {
   "cell_type": "code",
   "execution_count": 7,
   "metadata": {},
   "outputs": [
    {
     "data": {
      "text/plain": [
       "1"
      ]
     },
     "execution_count": 7,
     "metadata": {},
     "output_type": "execute_result"
    }
   ],
   "source": [
    "# Dimensions = number of pair of square brakects \n",
    "vector.ndim"
   ]
  },
  {
   "cell_type": "code",
   "execution_count": 8,
   "metadata": {},
   "outputs": [
    {
     "data": {
      "text/plain": [
       "torch.Size([3])"
      ]
     },
     "execution_count": 8,
     "metadata": {},
     "output_type": "execute_result"
    }
   ],
   "source": [
    "vector.shape"
   ]
  },
  {
   "cell_type": "code",
   "execution_count": 9,
   "metadata": {},
   "outputs": [
    {
     "data": {
      "text/plain": [
       "tensor([[7, 7, 7],\n",
       "        [1, 2, 3]])"
      ]
     },
     "execution_count": 9,
     "metadata": {},
     "output_type": "execute_result"
    }
   ],
   "source": [
    "MATRIX = torch.tensor([[7,7,7], [1,2,3]])\n",
    "MATRIX"
   ]
  },
  {
   "cell_type": "code",
   "execution_count": 10,
   "metadata": {},
   "outputs": [
    {
     "data": {
      "text/plain": [
       "2"
      ]
     },
     "execution_count": 10,
     "metadata": {},
     "output_type": "execute_result"
    }
   ],
   "source": [
    "MATRIX.ndim"
   ]
  },
  {
   "cell_type": "code",
   "execution_count": 11,
   "metadata": {},
   "outputs": [
    {
     "data": {
      "text/plain": [
       "torch.Size([2, 3])"
      ]
     },
     "execution_count": 11,
     "metadata": {},
     "output_type": "execute_result"
    }
   ],
   "source": [
    "MATRIX.shape"
   ]
  },
  {
   "cell_type": "code",
   "execution_count": 12,
   "metadata": {},
   "outputs": [],
   "source": [
    "random_image = torch.rand(size=(3,244,244))\n"
   ]
  },
  {
   "cell_type": "code",
   "execution_count": 13,
   "metadata": {},
   "outputs": [
    {
     "data": {
      "text/plain": [
       "torch.float32"
      ]
     },
     "execution_count": 13,
     "metadata": {},
     "output_type": "execute_result"
    }
   ],
   "source": [
    "random_image.dtype"
   ]
  },
  {
   "cell_type": "code",
   "execution_count": 14,
   "metadata": {},
   "outputs": [
    {
     "data": {
      "text/plain": [
       "tensor([1, 3, 5, 7, 9])"
      ]
     },
     "execution_count": 14,
     "metadata": {},
     "output_type": "execute_result"
    }
   ],
   "source": [
    "torch.arange(start=1, end= 10, step=2)"
   ]
  },
  {
   "cell_type": "code",
   "execution_count": 15,
   "metadata": {},
   "outputs": [
    {
     "name": "stdout",
     "output_type": "stream",
     "text": [
      "cuda\n"
     ]
    }
   ],
   "source": [
    "device = \"cuda\" if torch.cuda.is_available() else \"cpu\"\n",
    "print(device)"
   ]
  },
  {
   "cell_type": "code",
   "execution_count": 16,
   "metadata": {},
   "outputs": [
    {
     "name": "stdout",
     "output_type": "stream",
     "text": [
      "torch.Size([3, 2])\n",
      "torch.Size([2, 3])\n",
      "tensor([[ 44,  52],\n",
      "        [ 88, 107]])\n",
      "tensor([[ 9, 16, 21],\n",
      "        [24, 43, 60],\n",
      "        [39, 70, 99]])\n"
     ]
    }
   ],
   "source": [
    "T1 = torch.tensor([[1, 2], [4, 5], [7, 8]])\n",
    "T2 = torch.tensor([[1, 2, 5], [ 4, 7,8]])\n",
    "print(T1.shape)\n",
    "print(T2.shape)\n",
    "print(torch.matmul(T2, T1))\n",
    "print(torch.matmul(T1, T2))"
   ]
  },
  {
   "cell_type": "code",
   "execution_count": 17,
   "metadata": {},
   "outputs": [
    {
     "name": "stdout",
     "output_type": "stream",
     "text": [
      "tensor([[1, 2],\n",
      "        [4, 5],\n",
      "        [7, 8]])\n",
      "tensor([[1, 4],\n",
      "        [2, 7],\n",
      "        [5, 8]])\n"
     ]
    }
   ],
   "source": [
    "print(T1)\n",
    "print(T2.T)"
   ]
  },
  {
   "cell_type": "code",
   "execution_count": 24,
   "metadata": {},
   "outputs": [
    {
     "name": "stdout",
     "output_type": "stream",
     "text": [
      "tensor([1, 2, 3, 4, 5, 6, 7, 8, 9])\n",
      "tensor([[1, 2, 3],\n",
      "        [4, 5, 6],\n",
      "        [7, 8, 9]])\n"
     ]
    }
   ],
   "source": [
    "A = torch.arange(start=1, end=10)\n",
    "print(A)\n",
    "B = A.reshape((3, 3))\n",
    "print(B)\n"
   ]
  },
  {
   "cell_type": "code",
   "execution_count": 33,
   "metadata": {},
   "outputs": [
    {
     "data": {
      "text/plain": [
       "(tensor([1, 0, 3, 4, 5, 6, 7, 8, 9]), tensor([1, 2, 3, 4, 5, 6, 7, 8, 9]))"
      ]
     },
     "execution_count": 33,
     "metadata": {},
     "output_type": "execute_result"
    }
   ],
   "source": [
    "A.view(9)\n",
    "B  = A.clone()\n",
    "A, B\n",
    "A[1]=0\n",
    "A, B"
   ]
  },
  {
   "cell_type": "code",
   "execution_count": 49,
   "metadata": {},
   "outputs": [],
   "source": [
    "z= torch.tensor([1,2,3,4,5,6,7,8])\n",
    "m = torch.stack([z,z,z,z], dim=1)\n"
   ]
  },
  {
   "cell_type": "code",
   "execution_count": 46,
   "metadata": {},
   "outputs": [],
   "source": []
  },
  {
   "cell_type": "code",
   "execution_count": 47,
   "metadata": {},
   "outputs": [
    {
     "data": {
      "text/plain": [
       "[[[tensor([[1, 1, 1, 1],\n",
       "           [2, 2, 2, 2],\n",
       "           [3, 3, 3, 3],\n",
       "           [4, 4, 4, 4],\n",
       "           [5, 5, 5, 5],\n",
       "           [6, 6, 6, 6],\n",
       "           [7, 7, 7, 7],\n",
       "           [8, 8, 8, 8]])]]]"
      ]
     },
     "execution_count": 47,
     "metadata": {},
     "output_type": "execute_result"
    }
   ],
   "source": []
  },
  {
   "cell_type": "code",
   "execution_count": 52,
   "metadata": {},
   "outputs": [
    {
     "data": {
      "text/plain": [
       "tensor([[[1, 1, 1, 1]],\n",
       "\n",
       "        [[2, 2, 2, 2]],\n",
       "\n",
       "        [[3, 3, 3, 3]],\n",
       "\n",
       "        [[4, 4, 4, 4]],\n",
       "\n",
       "        [[5, 5, 5, 5]],\n",
       "\n",
       "        [[6, 6, 6, 6]],\n",
       "\n",
       "        [[7, 7, 7, 7]],\n",
       "\n",
       "        [[8, 8, 8, 8]]])"
      ]
     },
     "execution_count": 52,
     "metadata": {},
     "output_type": "execute_result"
    }
   ],
   "source": [
    "m.unsqueeze(dim=1)"
   ]
  },
  {
   "cell_type": "code",
   "execution_count": 55,
   "metadata": {},
   "outputs": [
    {
     "name": "stdout",
     "output_type": "stream",
     "text": [
      "tensor([[[0.5321, 0.6258, 0.6241, 0.6766, 0.3983],\n",
      "         [0.0355, 0.7295, 0.3558, 0.5619, 0.5477],\n",
      "         [0.1414, 0.9309, 0.8647, 0.5297, 0.1394],\n",
      "         [0.4891, 0.7058, 0.3667, 0.3026, 0.8455]],\n",
      "\n",
      "        [[0.9583, 0.6887, 0.3358, 0.3732, 0.9560],\n",
      "         [0.8612, 0.7356, 0.2228, 0.1145, 0.6192],\n",
      "         [0.9594, 0.6714, 0.7540, 0.7397, 0.7921],\n",
      "         [0.2065, 0.1703, 0.4426, 0.1077, 0.8380]],\n",
      "\n",
      "        [[0.8925, 0.0716, 0.9708, 0.2092, 0.5195],\n",
      "         [0.9585, 0.8824, 0.4937, 0.8374, 0.3894],\n",
      "         [0.6825, 0.6193, 0.4758, 0.2176, 0.8722],\n",
      "         [0.8617, 0.7106, 0.7877, 0.4460, 0.9784]]])\n"
     ]
    }
   ],
   "source": [
    "rando  = torch.rand((3,4,5))\n",
    "print(rando)"
   ]
  },
  {
   "cell_type": "code",
   "execution_count": 56,
   "metadata": {},
   "outputs": [
    {
     "data": {
      "text/plain": [
       "tensor([[[0.5321, 0.9583, 0.8925],\n",
       "         [0.0355, 0.8612, 0.9585],\n",
       "         [0.1414, 0.9594, 0.6825],\n",
       "         [0.4891, 0.2065, 0.8617]],\n",
       "\n",
       "        [[0.6258, 0.6887, 0.0716],\n",
       "         [0.7295, 0.7356, 0.8824],\n",
       "         [0.9309, 0.6714, 0.6193],\n",
       "         [0.7058, 0.1703, 0.7106]],\n",
       "\n",
       "        [[0.6241, 0.3358, 0.9708],\n",
       "         [0.3558, 0.2228, 0.4937],\n",
       "         [0.8647, 0.7540, 0.4758],\n",
       "         [0.3667, 0.4426, 0.7877]],\n",
       "\n",
       "        [[0.6766, 0.3732, 0.2092],\n",
       "         [0.5619, 0.1145, 0.8374],\n",
       "         [0.5297, 0.7397, 0.2176],\n",
       "         [0.3026, 0.1077, 0.4460]],\n",
       "\n",
       "        [[0.3983, 0.9560, 0.5195],\n",
       "         [0.5477, 0.6192, 0.3894],\n",
       "         [0.1394, 0.7921, 0.8722],\n",
       "         [0.8455, 0.8380, 0.9784]]])"
      ]
     },
     "execution_count": 56,
     "metadata": {},
     "output_type": "execute_result"
    }
   ],
   "source": [
    "rando.permute((2,1,0))"
   ]
  },
  {
   "cell_type": "code",
   "execution_count": 68,
   "metadata": {},
   "outputs": [
    {
     "data": {
      "text/plain": [
       "(tensor([ 2,  4,  6,  8, 10, 12, 14, 16, 18, 20], dtype=torch.int32),\n",
       " array([ 2,  4,  6,  8, 10, 12, 14, 16, 18, 20]))"
      ]
     },
     "execution_count": 68,
     "metadata": {},
     "output_type": "execute_result"
    }
   ],
   "source": [
    "array = np.arange(start=2, stop=21, step=2)\n",
    "tensor = torch.from_numpy(array)\n",
    "tensor, array\n"
   ]
  },
  {
   "cell_type": "code",
   "execution_count": 70,
   "metadata": {},
   "outputs": [
    {
     "data": {
      "text/plain": [
       "torch.int64"
      ]
     },
     "execution_count": 70,
     "metadata": {},
     "output_type": "execute_result"
    }
   ],
   "source": [
    "me = tensor.to(torch.int64)\n",
    "me.dtype"
   ]
  },
  {
   "cell_type": "code",
   "execution_count": 83,
   "metadata": {},
   "outputs": [
    {
     "name": "stdout",
     "output_type": "stream",
     "text": [
      "tensor([[0.8398, 0.8042, 0.1213],\n",
      "        [0.5309, 0.6646, 0.4077],\n",
      "        [0.0888, 0.2429, 0.7053]])\n",
      "tensor([[0.8398, 0.8042, 0.1213],\n",
      "        [0.5309, 0.6646, 0.4077],\n",
      "        [0.0888, 0.2429, 0.7053]])\n"
     ]
    },
    {
     "data": {
      "text/plain": [
       "tensor([[True, True, True],\n",
       "        [True, True, True],\n",
       "        [True, True, True]])"
      ]
     },
     "execution_count": 83,
     "metadata": {},
     "output_type": "execute_result"
    }
   ],
   "source": [
    "RANDOM_SEED = 69\n",
    "\n",
    "torch.manual_seed(RANDOM_SEED)\n",
    "A=torch.rand((3,3))\n",
    "torch.manual_seed(RANDOM_SEED)\n",
    "B=torch.rand((3,3))\n",
    "print(A)\n",
    "print(B)\n",
    "A==B"
   ]
  },
  {
   "cell_type": "code",
   "execution_count": 99,
   "metadata": {},
   "outputs": [
    {
     "name": "stdout",
     "output_type": "stream",
     "text": [
      "cuda\n"
     ]
    }
   ],
   "source": [
    "device = \"cuda\" if torch.cuda.is_available() else \"cpu\"\n",
    "print(device)"
   ]
  },
  {
   "cell_type": "code",
   "execution_count": 100,
   "metadata": {},
   "outputs": [
    {
     "data": {
      "text/plain": [
       "1"
      ]
     },
     "execution_count": 100,
     "metadata": {},
     "output_type": "execute_result"
    }
   ],
   "source": [
    "torch.cuda.device_count()"
   ]
  },
  {
   "cell_type": "code",
   "execution_count": 101,
   "metadata": {},
   "outputs": [
    {
     "name": "stdout",
     "output_type": "stream",
     "text": [
      "tensor([1, 2, 3, 4]) cpu\n"
     ]
    }
   ],
   "source": [
    "\n",
    "tensor = torch.tensor([1,2,3,4])\n",
    "print(tensor, tensor.device)"
   ]
  },
  {
   "cell_type": "code",
   "execution_count": 102,
   "metadata": {},
   "outputs": [
    {
     "name": "stdout",
     "output_type": "stream",
     "text": [
      "tensor([1, 2, 3, 4]) cpu\n"
     ]
    }
   ],
   "source": [
    "tensor2 = torch.tensor([1,2,3,4])\n",
    "print(tensor2, tensor2.device)"
   ]
  },
  {
   "cell_type": "code",
   "execution_count": 103,
   "metadata": {},
   "outputs": [
    {
     "name": "stdout",
     "output_type": "stream",
     "text": [
      "tensor([1, 2, 3, 4], device='cuda:0') cuda:0\n"
     ]
    }
   ],
   "source": [
    "tensor_gpu = tensor.to(device=device)\n",
    "print(tensor_gpu, tensor_gpu.device)"
   ]
  },
  {
   "cell_type": "code",
   "execution_count": 107,
   "metadata": {},
   "outputs": [
    {
     "data": {
      "text/plain": [
       "array([1, 2, 3, 4], dtype=int64)"
      ]
     },
     "execution_count": 107,
     "metadata": {},
     "output_type": "execute_result"
    }
   ],
   "source": [
    "tensor_cpu = tensor_gpu.cpu()\n",
    "tensor_cpu.numpy()"
   ]
  }
 ],
 "metadata": {
  "kernelspec": {
   "display_name": "base",
   "language": "python",
   "name": "python3"
  },
  "language_info": {
   "codemirror_mode": {
    "name": "ipython",
    "version": 3
   },
   "file_extension": ".py",
   "mimetype": "text/x-python",
   "name": "python",
   "nbconvert_exporter": "python",
   "pygments_lexer": "ipython3",
   "version": "3.12.3"
  }
 },
 "nbformat": 4,
 "nbformat_minor": 2
}
